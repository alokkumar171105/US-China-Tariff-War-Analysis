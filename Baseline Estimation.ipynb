{
 "cells": [
  {
   "cell_type": "markdown",
   "metadata": {},
   "source": [
    "Importing Libraries :"
   ]
  },
  {
   "cell_type": "code",
   "execution_count": 1,
   "metadata": {},
   "outputs": [],
   "source": [
    "import pandas as pd\n",
    "import numpy as np\n",
    "import statsmodels.api as sm"
   ]
  },
  {
   "cell_type": "markdown",
   "metadata": {},
   "source": [
    "Uploading and Reading Dataset :"
   ]
  },
  {
   "cell_type": "code",
   "execution_count": 2,
   "metadata": {},
   "outputs": [],
   "source": [
    "file_path = 'Y:/ECO412A/Project/US-China Dataset.xlsx'\n",
    "data = pd.read_excel(file_path, sheet_name=0)"
   ]
  },
  {
   "cell_type": "markdown",
   "metadata": {},
   "source": [
    "Two-Way Fixed Effects Methodology :"
   ]
  },
  {
   "cell_type": "markdown",
   "metadata": {},
   "source": [
    "Logging Up the Independent Variables :"
   ]
  },
  {
   "cell_type": "code",
   "execution_count": null,
   "metadata": {},
   "outputs": [],
   "source": [
    "data['log_GDP_Exporter'] = np.log(data['GDP (Exp) (mn $)'])\n",
    "data['log_GDP_Importer'] = np.log(data['GDP (Imp) (mn $)'])\n",
    "data['log_Distance'] = np.log(data['Distance'])\n",
    "data['log_ATE'] = np.log(1 + data['Avg. Tariff']) \n",
    "data['log_NTB_Exporter'] = np.log(1+data['IMP_5'])\n",
    "data['log_NTB_Importer'] = np.log(1+data['IMP_4'])\n",
    "data['GDP_Exp'] = np.log(data['GDP (Exp) (mn $)'])\n",
    "data['GDP_Imp'] = np.log(data['GDP (Imp) (mn $)'])\n",
    "data['Dist'] = np.log(data['Distance'])\n",
    "data['ATE'] = np.log(1 + data['Avg. Tariff']) \n",
    "data['NTB_Exp'] = np.log(1+data['IMP_5'])\n",
    "data['NTB_Imp'] = np.log(1+data['IMP_4'])"
   ]
  },
  {
   "cell_type": "markdown",
   "metadata": {},
   "source": [
    "Simulation of TWFE :"
   ]
  },
  {
   "cell_type": "code",
   "execution_count": 9,
   "metadata": {},
   "outputs": [
    {
     "name": "stdout",
     "output_type": "stream",
     "text": [
      "                            OLS Regression Results                            \n",
      "==============================================================================\n",
      "Dep. Variable:     Imp. Value (1000$)   R-squared:                       0.275\n",
      "Model:                            OLS   Adj. R-squared:                  0.274\n",
      "Method:                 Least Squares   F-statistic:                     166.5\n",
      "Date:                Wed, 06 Nov 2024   Prob (F-statistic):               0.00\n",
      "Time:                        01:32:18   Log-Likelihood:                -23828.\n",
      "No. Observations:                9662   AIC:                         4.770e+04\n",
      "Df Residuals:                    9639   BIC:                         4.787e+04\n",
      "Df Model:                          22                                         \n",
      "Covariance Type:            nonrobust                                         \n",
      "====================================================================================\n",
      "                       coef    std err          t      P>|t|      [0.025      0.975]\n",
      "------------------------------------------------------------------------------------\n",
      "const               -1.7977      4.817     -0.373      0.709     -11.239       7.644\n",
      "log_GDP_Exporter     0.4979      0.547      0.910      0.363      -0.575       1.571\n",
      "log_GDP_Importer     0.9716      0.551      1.763      0.078      -0.109       2.052\n",
      "log_Distance        -0.9779      0.050    -19.700      0.000      -1.075      -0.881\n",
      "log_ATE             -0.4423      0.027    -16.098      0.000      -0.496      -0.388\n",
      "log_NTB_Exporter    -0.1257      0.288     -0.437      0.662      -0.690       0.438\n",
      "log_NTB_Importer    -0.5767      0.199     -2.905      0.004      -0.966      -0.188\n",
      "COB                 -0.0017      0.131     -0.013      0.989      -0.258       0.255\n",
      "TC                  -0.8713      1.273     -0.684      0.494      -3.367       1.624\n",
      "TD1                  0.8507      0.611      1.392      0.164      -0.347       2.049\n",
      "TD2                  0.1408      0.670      0.210      0.834      -1.172       1.454\n",
      "IMP_1                0.1233      0.410      0.301      0.764      -0.681       0.927\n",
      "IMP_2               -1.0471      1.666     -0.629      0.530      -4.312       2.218\n",
      "IMP_3               -0.8484      0.518     -1.637      0.102      -1.864       0.167\n",
      "IMP_4               -0.8320      0.286     -2.905      0.004      -1.393      -0.271\n",
      "IMP_5               -0.1814      0.415     -0.437      0.662      -0.995       0.632\n",
      "IMP_6                0.4095      0.415      0.988      0.323      -0.403       1.222\n",
      "IMP_7                0.1138      0.484      0.235      0.814      -0.834       1.062\n",
      "IMP_8               -0.7064      1.788     -0.395      0.693      -4.212       2.799\n",
      "IMP_9                1.1710      1.107      1.058      0.290      -0.999       3.341\n",
      "EXP_1                0.2403      0.391      0.614      0.539      -0.526       1.007\n",
      "EXP_2                0.2615      1.618      0.162      0.872      -2.910       3.433\n",
      "EXP_3               -0.2208      0.482     -0.459      0.647      -1.165       0.723\n",
      "EXP_4               -0.3250      0.388     -0.838      0.402      -1.085       0.435\n",
      "EXP_5               -1.2655      0.577     -2.193      0.028      -2.397      -0.134\n",
      "EXP_6               -1.0612      0.399     -2.663      0.008      -1.842      -0.280\n",
      "EXP_7               -0.3185      0.495     -0.644      0.520      -1.288       0.651\n",
      "EXP_8                0.6307      1.744      0.362      0.718      -2.787       4.048\n",
      "EXP_9                0.2609      1.117      0.234      0.815      -1.929       2.451\n",
      "==============================================================================\n",
      "Omnibus:                      264.053   Durbin-Watson:                   1.545\n",
      "Prob(Omnibus):                  0.000   Jarque-Bera (JB):              348.375\n",
      "Skew:                          -0.321   Prob(JB):                     2.25e-76\n",
      "Kurtosis:                       3.673   Cond. No.                     2.19e+16\n",
      "==============================================================================\n",
      "\n",
      "Notes:\n",
      "[1] Standard Errors assume that the covariance matrix of the errors is correctly specified.\n",
      "[2] The smallest eigenvalue is 1.08e-26. This might indicate that there are\n",
      "strong multicollinearity problems or that the design matrix is singular.\n"
     ]
    }
   ],
   "source": [
    "X = data[['log_GDP_Exporter', 'log_GDP_Importer', 'log_Distance', 'log_ATE', 'log_NTB_Exporter', 'log_NTB_Importer', 'COB','TC', 'TD1', 'TD2',\n",
    "       'IMP_1', 'IMP_2', 'IMP_3', 'IMP_4', 'IMP_5', 'IMP_6', 'IMP_7', 'IMP_8', 'IMP_9', 'EXP_1', 'EXP_2', 'EXP_3', 'EXP_4', 'EXP_5', 'EXP_6', 'EXP_7', 'EXP_8', 'EXP_9']]\n",
    "\n",
    "y = np.log(data['Imp. Value (1000$)'] + 1)\n",
    "X = sm.add_constant(X)\n",
    "\n",
    "twfe_model = sm.OLS(y, X).fit()\n",
    "\n",
    "print(twfe_model.summary())"
   ]
  },
  {
   "cell_type": "markdown",
   "metadata": {},
   "source": [
    "Standard PPML Methodology :"
   ]
  },
  {
   "cell_type": "code",
   "execution_count": 10,
   "metadata": {},
   "outputs": [
    {
     "name": "stdout",
     "output_type": "stream",
     "text": [
      "                 Generalized Linear Model Regression Results                  \n",
      "==============================================================================\n",
      "Dep. Variable:     Imp. Value (1000$)   No. Observations:                 9662\n",
      "Model:                            GLM   Df Residuals:                     9639\n",
      "Model Family:                 Poisson   Df Model:                           22\n",
      "Link Function:                    Log   Scale:                          1.0000\n",
      "Method:                          IRLS   Log-Likelihood:            -1.6406e+10\n",
      "Date:                Wed, 06 Nov 2024   Deviance:                   3.2811e+10\n",
      "Time:                        01:32:25   Pearson chi2:                 1.03e+11\n",
      "No. Iterations:                    10   Pseudo R-squ. (CS):              1.000\n",
      "Covariance Type:            nonrobust                                         \n",
      "==============================================================================\n",
      "                 coef    std err          z      P>|z|      [0.025      0.975]\n",
      "------------------------------------------------------------------------------\n",
      "const          3.7511      0.002   2290.944      0.000       3.748       3.754\n",
      "GDP_Exp        0.1181      0.000    651.757      0.000       0.118       0.118\n",
      "GDP_Imp        0.7861      0.000   4152.121      0.000       0.786       0.786\n",
      "Dist          -0.5732   2.24e-05  -2.56e+04      0.000      -0.573      -0.573\n",
      "ATE           -0.5345   1.34e-05     -4e+04      0.000      -0.535      -0.535\n",
      "NTB_Exp       -0.3002      0.000  -2996.685      0.000      -0.300      -0.300\n",
      "NTB_Imp       -0.0346    7.2e-05   -480.829      0.000      -0.035      -0.034\n",
      "COB            0.3188   5.63e-05   5659.091      0.000       0.319       0.319\n",
      "TC             0.9012      0.000   2085.416      0.000       0.900       0.902\n",
      "TD1           -0.4749      0.000  -2275.802      0.000      -0.475      -0.474\n",
      "TD2           -0.2889      0.000  -1266.450      0.000      -0.289      -0.288\n",
      "IMP_1         -0.0312      0.000   -225.226      0.000      -0.031      -0.031\n",
      "IMP_2          0.6950      0.001   1204.491      0.000       0.694       0.696\n",
      "IMP_3         -0.1194      0.000   -658.474      0.000      -0.120      -0.119\n",
      "IMP_4         -0.0500      0.000   -480.829      0.000      -0.050      -0.050\n",
      "IMP_5         -0.4332      0.000  -2996.685      0.000      -0.433      -0.433\n",
      "IMP_6          0.4735      0.000   3293.200      0.000       0.473       0.474\n",
      "IMP_7          1.0692      0.000   6571.395      0.000       1.069       1.070\n",
      "IMP_8          0.6945      0.001   1121.806      0.000       0.693       0.696\n",
      "IMP_9          1.4526      0.000   3850.327      0.000       1.452       1.453\n",
      "EXP_1         -0.4383      0.000  -3152.629      0.000      -0.439      -0.438\n",
      "EXP_2          1.8661      0.001   3470.305      0.000       1.865       1.867\n",
      "EXP_3          0.2541      0.000   1542.297      0.000       0.254       0.254\n",
      "EXP_4         -1.1568      0.000  -7683.171      0.000      -1.157      -1.156\n",
      "EXP_5          0.5151      0.000   2675.675      0.000       0.515       0.515\n",
      "EXP_6          0.4657      0.000   3337.210      0.000       0.465       0.466\n",
      "EXP_7          0.3961      0.000   2320.079      0.000       0.396       0.396\n",
      "EXP_8          1.6805      0.001   2909.912      0.000       1.679       1.682\n",
      "EXP_9          0.1685      0.000    448.312      0.000       0.168       0.169\n",
      "==============================================================================\n"
     ]
    }
   ],
   "source": [
    "X_standard = data[['GDP_Exp', 'GDP_Imp', 'Dist', 'ATE', 'NTB_Exp', 'NTB_Imp', 'COB','TC', 'TD1', 'TD2','IMP_1', 'IMP_2', 'IMP_3', 'IMP_4', 'IMP_5', 'IMP_6', 'IMP_7', 'IMP_8',\n",
    "          'IMP_9', 'EXP_1', 'EXP_2', 'EXP_3', 'EXP_4', 'EXP_5', 'EXP_6', 'EXP_7','EXP_8', 'EXP_9']]\n",
    "    \n",
    "y_standard = data['Imp. Value (1000$)']\n",
    "\n",
    "X_standard = sm.add_constant(X_standard)\n",
    "\n",
    "ppml_standard_model = sm.GLM(y_standard, X_standard, family=sm.families.Poisson()).fit()\n",
    "\n",
    "print(ppml_standard_model.summary())\n"
   ]
  }
 ],
 "metadata": {
  "kernelspec": {
   "display_name": "Python 3",
   "language": "python",
   "name": "python3"
  },
  "language_info": {
   "codemirror_mode": {
    "name": "ipython",
    "version": 3
   },
   "file_extension": ".py",
   "mimetype": "text/x-python",
   "name": "python",
   "nbconvert_exporter": "python",
   "pygments_lexer": "ipython3",
   "version": "3.12.2"
  }
 },
 "nbformat": 4,
 "nbformat_minor": 2
}
